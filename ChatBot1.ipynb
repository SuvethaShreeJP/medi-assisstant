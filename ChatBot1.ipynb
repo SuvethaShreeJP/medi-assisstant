{
  "nbformat": 4,
  "nbformat_minor": 0,
  "metadata": {
    "colab": {
      "name": "ChatBot1.ipynb",
      "provenance": [],
      "collapsed_sections": []
    },
    "kernelspec": {
      "name": "python3",
      "display_name": "Python 3",
      "language": "python"
    }
  },
  "cells": [
    {
      "cell_type": "code",
      "metadata": {
        "id": "HuJLcFORKJQM",
        "colab": {
          "base_uri": "https://localhost:8080/"
        },
        "outputId": "70516530-02cc-46cf-a3ad-855c450daa56"
      },
      "source": [
        "#pip install nltk"
      ],
      "execution_count": 21,
      "outputs": []
    },
    {
      "cell_type": "code",
      "metadata": {
        "id": "565x-UDFK4pa",
        "colab": {
          "base_uri": "https://localhost:8080/"
        },
        "outputId": "bcb3435c-99f8-48a0-bc8d-7e5d99a02e24"
      },
      "source": [
        "#pip install newspaper3k"
      ],
      "execution_count": 24,
      "outputs": []
    },
    {
      "cell_type": "code",
      "metadata": {
        "id": "eJbdBsive2Rx"
      },
      "source": [
        "from newspaper import Article\n",
        "import random\n",
        "import string\n",
        "import nltk\n",
        "from sklearn.feature_extraction.text import CountVectorizer\n",
        "from sklearn.metrics.pairwise import cosine_similarity\n",
        "import numpy as np\n",
        "import warnings\n",
        "warnings.filterwarnings('ignore')"
      ],
      "execution_count": 25,
      "outputs": []
    },
    {
      "cell_type": "code",
      "metadata": {
        "id": "NQw5lsK1K_K_",
        "colab": {
          "base_uri": "https://localhost:8080/"
        },
        "outputId": "80267263-fb07-4fb9-a601-4b95fc32fd39"
      },
      "source": [
        "nltk.download('punkt',quiet=True)"
      ],
      "execution_count": 26,
      "outputs": [
        {
          "output_type": "execute_result",
          "data": {
            "text/plain": [
              "True"
            ]
          },
          "metadata": {},
          "execution_count": 26
        }
      ]
    },
    {
      "cell_type": "code",
      "metadata": {
        "id": "lH2-ntf_pzyC"
      },
      "source": [
        "article=Article(\"https://www.mayoclinic.org/diseases-conditions/chronic-kidney-disease/symptoms-causes/syc-20354521\")\r\n",
        "article.download()\r\n",
        "article.parse()\r\n",
        "article.nlp()\r\n",
        "corpus=article.text\r\n"
      ],
      "execution_count": 27,
      "outputs": []
    },
    {
      "cell_type": "code",
      "metadata": {
        "colab": {
          "base_uri": "https://localhost:8080/"
        },
        "id": "HLiQUzcOqqPr",
        "outputId": "ca0f33f8-abde-4e35-d825-0c3ef13c45a4"
      },
      "source": [
        "print(corpus)"
      ],
      "execution_count": 28,
      "outputs": [
        {
          "output_type": "stream",
          "name": "stdout",
          "text": [
            "Overview\n\nChronic kidney disease, also called chronic kidney failure, describes the gradual loss of kidney function. Your kidneys filter wastes and excess fluids from your blood, which are then excreted in your urine. When chronic kidney disease reaches an advanced stage, dangerous levels of fluid, electrolytes and wastes can build up in your body.\n\nIn the early stages of chronic kidney disease, you may have few signs or symptoms. Chronic kidney disease may not become apparent until your kidney function is significantly impaired.\n\nTreatment for chronic kidney disease focuses on slowing the progression of the kidney damage, usually by controlling the underlying cause. Chronic kidney disease can progress to end-stage kidney failure, which is fatal without artificial filtering (dialysis) or a kidney transplant.\n\nChronic kidney disease care at Mayo Clinic\n\nHow kidneys work\n\nSymptoms\n\nSigns and symptoms of chronic kidney disease develop over time if kidney damage progresses slowly. Signs and symptoms of kidney disease may include:\n\nNausea\n\nVomiting\n\nLoss of appetite\n\nFatigue and weakness\n\nSleep problems\n\nChanges in how much you urinate\n\nDecreased mental sharpness\n\nMuscle twitches and cramps\n\nSwelling of feet and ankles\n\nPersistent itching\n\nChest pain, if fluid builds up around the lining of the heart\n\nShortness of breath, if fluid builds up in the lungs\n\nHigh blood pressure (hypertension) that's difficult to control\n\nSigns and symptoms of kidney disease are often nonspecific, meaning they can also be caused by other illnesses. Because your kidneys are highly adaptable and able to compensate for lost function, signs and symptoms may not appear until irreversible damage has occurred.\n\nWhen to see a doctor\n\nMake an appointment with your doctor if you have any signs or symptoms of kidney disease.\n\nIf you have a medical condition that increases your risk of kidney disease, your doctor is likely to monitor your blood pressure and kidney function with urine and blood tests during regular office visits. Ask your doctor whether these tests are necessary for you.\n\nCauses\n\nNormal kidney vs. diseased kidney Open pop-up dialog box Close Normal kidney vs. diseased kidney Normal kidney vs. diseased kidney A normal kidney has about 1 million filtering units. Each unit, called a glomerulus, connects to a tubule, which collects urine. Conditions such as high blood pressure and diabetes take a toll on kidney function by damaging these filtering units and collecting tubules and causing scarring.\n\nPolycystic kidney Open pop-up dialog box Close Polycystic kidney Polycystic kidney A healthy kidney (left) eliminates waste from the blood and maintains the body's normal chemical balance. With polycystic kidney disease (right), fluid-filled sacs called cysts develop in the kidneys, causing them to grow larger and gradually lose their ability to function normally.\n\nChronic kidney disease occurs when a disease or condition impairs kidney function, causing kidney damage to worsen over several months or years.\n\nDiseases and conditions that cause chronic kidney disease include:\n\nType 1 or type 2 diabetes\n\nHigh blood pressure\n\nGlomerulonephritis (gloe-mer-u-low-nuh-FRY-tis), an inflammation of the kidney's filtering units (glomeruli)\n\nInterstitial nephritis (in-tur-STISH-ul nuh-FRY-tis), an inflammation of the kidney's tubules and surrounding structures\n\nPolycystic kidney disease\n\nProlonged obstruction of the urinary tract, from conditions such as enlarged prostate, kidney stones and some cancers\n\nVesicoureteral (ves-ih-koe-yoo-REE-tur-ul) reflux, a condition that causes urine to back up into your kidneys\n\nRecurrent kidney infection, also called pyelonephritis (pie-uh-low-nuh-FRY-tis)\n\nRisk factors\n\nFactors that may increase your risk of chronic kidney disease include:\n\nDiabetes\n\nHigh blood pressure\n\nHeart and blood vessel (cardiovascular) disease\n\nSmoking\n\nObesity\n\nBeing African-American, Native American or Asian-American\n\nFamily history of kidney disease\n\nAbnormal kidney structure\n\nOlder age\n\nComplications\n\nChronic kidney disease can affect almost every part of your body. Potential complications may include:\n\nFluid retention, which could lead to swelling in your arms and legs, high blood pressure, or fluid in your lungs (pulmonary edema)\n\nA sudden rise in potassium levels in your blood (hyperkalemia), which could impair your heart's ability to function and may be life-threatening\n\nHeart and blood vessel (cardiovascular) disease\n\nWeak bones and an increased risk of bone fractures\n\nAnemia\n\nDecreased sex drive, erectile dysfunction or reduced fertility\n\nDamage to your central nervous system, which can cause difficulty concentrating, personality changes or seizures\n\nDecreased immune response, which makes you more vulnerable to infection\n\nPericarditis, an inflammation of the saclike membrane that envelops your heart (pericardium)\n\nPregnancy complications that carry risks for the mother and the developing fetus\n\nIrreversible damage to your kidneys (end-stage kidney disease), eventually requiring either dialysis or a kidney transplant for survival\n\nPrevention\n\nTo reduce your risk of developing kidney disease:\n"
          ]
        }
      ]
    },
    {
      "cell_type": "code",
      "metadata": {
        "colab": {
          "base_uri": "https://localhost:8080/"
        },
        "id": "T0uqI8_3diG8",
        "outputId": "894009ca-b745-44b5-a29b-6ee62a3868cc"
      },
      "source": [
        "text=corpus\r\n",
        "sentence_list = nltk.sent_tokenize(text)  \r\n",
        "print(sentence_list)"
      ],
      "execution_count": 29,
      "outputs": [
        {
          "output_type": "stream",
          "name": "stdout",
          "text": [
            "['Overview\\n\\nChronic kidney disease, also called chronic kidney failure, describes the gradual loss of kidney function.', 'Your kidneys filter wastes and excess fluids from your blood, which are then excreted in your urine.', 'When chronic kidney disease reaches an advanced stage, dangerous levels of fluid, electrolytes and wastes can build up in your body.', 'In the early stages of chronic kidney disease, you may have few signs or symptoms.', 'Chronic kidney disease may not become apparent until your kidney function is significantly impaired.', 'Treatment for chronic kidney disease focuses on slowing the progression of the kidney damage, usually by controlling the underlying cause.', 'Chronic kidney disease can progress to end-stage kidney failure, which is fatal without artificial filtering (dialysis) or a kidney transplant.', 'Chronic kidney disease care at Mayo Clinic\\n\\nHow kidneys work\\n\\nSymptoms\\n\\nSigns and symptoms of chronic kidney disease develop over time if kidney damage progresses slowly.', \"Signs and symptoms of kidney disease may include:\\n\\nNausea\\n\\nVomiting\\n\\nLoss of appetite\\n\\nFatigue and weakness\\n\\nSleep problems\\n\\nChanges in how much you urinate\\n\\nDecreased mental sharpness\\n\\nMuscle twitches and cramps\\n\\nSwelling of feet and ankles\\n\\nPersistent itching\\n\\nChest pain, if fluid builds up around the lining of the heart\\n\\nShortness of breath, if fluid builds up in the lungs\\n\\nHigh blood pressure (hypertension) that's difficult to control\\n\\nSigns and symptoms of kidney disease are often nonspecific, meaning they can also be caused by other illnesses.\", 'Because your kidneys are highly adaptable and able to compensate for lost function, signs and symptoms may not appear until irreversible damage has occurred.', 'When to see a doctor\\n\\nMake an appointment with your doctor if you have any signs or symptoms of kidney disease.', 'If you have a medical condition that increases your risk of kidney disease, your doctor is likely to monitor your blood pressure and kidney function with urine and blood tests during regular office visits.', 'Ask your doctor whether these tests are necessary for you.', 'Causes\\n\\nNormal kidney vs. diseased kidney Open pop-up dialog box Close Normal kidney vs. diseased kidney Normal kidney vs. diseased kidney A normal kidney has about 1 million filtering units.', 'Each unit, called a glomerulus, connects to a tubule, which collects urine.', 'Conditions such as high blood pressure and diabetes take a toll on kidney function by damaging these filtering units and collecting tubules and causing scarring.', \"Polycystic kidney Open pop-up dialog box Close Polycystic kidney Polycystic kidney A healthy kidney (left) eliminates waste from the blood and maintains the body's normal chemical balance.\", 'With polycystic kidney disease (right), fluid-filled sacs called cysts develop in the kidneys, causing them to grow larger and gradually lose their ability to function normally.', 'Chronic kidney disease occurs when a disease or condition impairs kidney function, causing kidney damage to worsen over several months or years.', \"Diseases and conditions that cause chronic kidney disease include:\\n\\nType 1 or type 2 diabetes\\n\\nHigh blood pressure\\n\\nGlomerulonephritis (gloe-mer-u-low-nuh-FRY-tis), an inflammation of the kidney's filtering units (glomeruli)\\n\\nInterstitial nephritis (in-tur-STISH-ul nuh-FRY-tis), an inflammation of the kidney's tubules and surrounding structures\\n\\nPolycystic kidney disease\\n\\nProlonged obstruction of the urinary tract, from conditions such as enlarged prostate, kidney stones and some cancers\\n\\nVesicoureteral (ves-ih-koe-yoo-REE-tur-ul) reflux, a condition that causes urine to back up into your kidneys\\n\\nRecurrent kidney infection, also called pyelonephritis (pie-uh-low-nuh-FRY-tis)\\n\\nRisk factors\\n\\nFactors that may increase your risk of chronic kidney disease include:\\n\\nDiabetes\\n\\nHigh blood pressure\\n\\nHeart and blood vessel (cardiovascular) disease\\n\\nSmoking\\n\\nObesity\\n\\nBeing African-American, Native American or Asian-American\\n\\nFamily history of kidney disease\\n\\nAbnormal kidney structure\\n\\nOlder age\\n\\nComplications\\n\\nChronic kidney disease can affect almost every part of your body.\", \"Potential complications may include:\\n\\nFluid retention, which could lead to swelling in your arms and legs, high blood pressure, or fluid in your lungs (pulmonary edema)\\n\\nA sudden rise in potassium levels in your blood (hyperkalemia), which could impair your heart's ability to function and may be life-threatening\\n\\nHeart and blood vessel (cardiovascular) disease\\n\\nWeak bones and an increased risk of bone fractures\\n\\nAnemia\\n\\nDecreased sex drive, erectile dysfunction or reduced fertility\\n\\nDamage to your central nervous system, which can cause difficulty concentrating, personality changes or seizures\\n\\nDecreased immune response, which makes you more vulnerable to infection\\n\\nPericarditis, an inflammation of the saclike membrane that envelops your heart (pericardium)\\n\\nPregnancy complications that carry risks for the mother and the developing fetus\\n\\nIrreversible damage to your kidneys (end-stage kidney disease), eventually requiring either dialysis or a kidney transplant for survival\\n\\nPrevention\\n\\nTo reduce your risk of developing kidney disease:\"]\n"
          ]
        }
      ]
    },
    {
      "cell_type": "code",
      "metadata": {
        "id": "nybNXbb-eJZA"
      },
      "source": [
        "def greeting_response(text):\r\n",
        "  text=text.lower()\r\n",
        "\r\n",
        "  bot_greetings=['howdy','hi','hey','hello','hola']\r\n",
        "  user_greetings=['hi','hey','hello','hola','greetings','wassup']\r\n",
        "\r\n",
        "  for word in text.split():\r\n",
        "    if word in user_greetings:\r\n",
        "      return random.choice(bot_greetings)"
      ],
      "execution_count": 30,
      "outputs": []
    },
    {
      "cell_type": "code",
      "metadata": {
        "id": "b0cNqJ91gkUR"
      },
      "source": [
        "def index_sort(var):\r\n",
        "  length=len(var)\r\n",
        "  index=list(range(0,length))\r\n",
        "\r\n",
        "  x=var\r\n",
        "  for i in range(length):\r\n",
        "    for j in range(length):\r\n",
        "      if x[index[i]] > x[index[j]]:\r\n",
        "        temp=index[i]\r\n",
        "        index[i]=index[j]\r\n",
        "        index[j]=temp\r\n",
        "\r\n",
        "  return index"
      ],
      "execution_count": 31,
      "outputs": []
    },
    {
      "cell_type": "code",
      "metadata": {
        "id": "e3M42OLjfaJf"
      },
      "source": [
        "def bot_response(user_input):\r\n",
        "  user_input=user_input.lower()\r\n",
        "  sentence_list.append(user_input)\r\n",
        "  bot_response=''\r\n",
        "  cm=CountVectorizer().fit_transform(sentence_list)\r\n",
        "  similarity_scores=cosine_similarity(cm[-1],cm)\r\n",
        "  similarity_scores_list=similarity_scores.flatten()\r\n",
        "  index=index_sort(similarity_scores_list)\r\n",
        "  index=index[1:]\r\n",
        "  response_flag=0\r\n",
        "\r\n",
        "  j=0\r\n",
        "  for i in range(len(index)):\r\n",
        "    if similarity_scores_list[index[i]]>0.0:\r\n",
        "      bot_response=bot_response+' '+sentence_list[index[i]]\r\n",
        "      response_flag=1\r\n",
        "      j=j+1\r\n",
        "    if j>2:\r\n",
        "      break\r\n",
        "\r\n",
        "  if response_flag==0:\r\n",
        "    bot_response=bot_response+' '+\"I apologize, I don't understand\"\r\n",
        "\r\n",
        "  sentence_list.remove(user_input)\r\n",
        "  return bot_response"
      ],
      "execution_count": 32,
      "outputs": []
    },
    {
      "cell_type": "code",
      "metadata": {
        "colab": {
          "base_uri": "https://localhost:8080/"
        },
        "id": "tPIEOKN7heRs",
        "outputId": "e75e75db-557b-4a60-b4ae-ede942063c47"
      },
      "source": [
        "print('Doc Bot: I am doctor bot or Doc Bot for short. I will answer your queries about chronic kidney disease if you want to exit type bye')\n",
        "exit_list=['exit','see you later','bye','quit','break']\n",
        "\n",
        "while(True):\n",
        "  user_input=input()\n",
        "  print(\"User: \"+user_input)\n",
        "  if user_input.lower() in exit_list:\n",
        "    print('Doc bot: Chat with you later !')\n",
        "    break\n",
        "  else:\n",
        "    if greeting_response(user_input)!=None:\n",
        "      print('Doc Bot: '+greeting_response(user_input))\n",
        "    else:\n",
        "      print('Doc Bot: '+bot_response(user_input))"
      ],
      "execution_count": 34,
      "outputs": [
        {
          "output_type": "stream",
          "name": "stdout",
          "text": [
            "Doc Bot: I am doctor bot or Doc Bot for short. I will answer your queries about chronic kidney disease if you want to exit type bye\n",
            "User: hi\n",
            "Doc Bot: hello\n",
            "User: symptoms of chronical disease\n",
            "Doc Bot:  Chronic kidney disease care at Mayo Clinic\n",
            "\n",
            "How kidneys work\n",
            "\n",
            "Symptoms\n",
            "\n",
            "Signs and symptoms of chronic kidney disease develop over time if kidney damage progresses slowly. Signs and symptoms of kidney disease may include:\n",
            "\n",
            "Nausea\n",
            "\n",
            "Vomiting\n",
            "\n",
            "Loss of appetite\n",
            "\n",
            "Fatigue and weakness\n",
            "\n",
            "Sleep problems\n",
            "\n",
            "Changes in how much you urinate\n",
            "\n",
            "Decreased mental sharpness\n",
            "\n",
            "Muscle twitches and cramps\n",
            "\n",
            "Swelling of feet and ankles\n",
            "\n",
            "Persistent itching\n",
            "\n",
            "Chest pain, if fluid builds up around the lining of the heart\n",
            "\n",
            "Shortness of breath, if fluid builds up in the lungs\n",
            "\n",
            "High blood pressure (hypertension) that's difficult to control\n",
            "\n",
            "Signs and symptoms of kidney disease are often nonspecific, meaning they can also be caused by other illnesses. In the early stages of chronic kidney disease, you may have few signs or symptoms.\n",
            "User: exit\n",
            "Doc bot: Chat with you later !\n"
          ]
        }
      ]
    },
    {
      "cell_type": "code",
      "metadata": {
        "id": "2vmNONDrhgxM"
      },
      "source": [],
      "execution_count": null,
      "outputs": []
    }
  ]
}